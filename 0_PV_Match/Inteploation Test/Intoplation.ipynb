{
 "cells": [
  {
   "cell_type": "code",
   "execution_count": 6,
   "id": "3b490f9f-884a-43af-a433-81102f7b5a6a",
   "metadata": {},
   "outputs": [
    {
     "name": "stdout",
     "output_type": "stream",
     "text": [
      "✅ Done! Timestamps now reflect END of periods, saved in 'done.csv'.\n"
     ]
    }
   ],
   "source": [
    "import pandas as pd\n",
    "\n",
    "# Load your file\n",
    "df = pd.read_csv('results.csv')\n",
    "\n",
    "# Fix column names\n",
    "df.columns = ['timestamp', 'power_generated_kW']\n",
    "\n",
    "# Add a fake year to timestamps\n",
    "df['timestamp'] = '2025 ' + df['timestamp'].astype(str)\n",
    "\n",
    "# Parse timestamps properly\n",
    "df['timestamp'] = pd.to_datetime(df['timestamp'], format='%Y %b %d, %I:%M %p')\n",
    "\n",
    "# SHIFT all timestamps BACK by 1 hour to reflect END of period\n",
    "df['timestamp'] = df['timestamp'] - pd.Timedelta(hours=1)\n",
    "\n",
    "# Set timestamp as index\n",
    "df = df.set_index('timestamp')\n",
    "\n",
    "# Create a new half-hourly time index\n",
    "new_index = pd.date_range(start=df.index.min(), end=df.index.max(), freq='30min')\n",
    "\n",
    "# Reindex and interpolate\n",
    "df_halfhourly = df.reindex(new_index)\n",
    "df_halfhourly = df_halfhourly.interpolate(method='linear')\n",
    "\n",
    "# Reset index for clean output\n",
    "df_halfhourly = df_halfhourly.reset_index()\n",
    "df_halfhourly.columns = ['timestamp', 'power_generated_kW']\n",
    "\n",
    "# Save to done.csv\n",
    "df_halfhourly.to_csv('done.csv', index=False)\n",
    "\n",
    "print(\"✅ Done! Timestamps now reflect END of periods, saved in 'done.csv'.\")\n"
   ]
  },
  {
   "cell_type": "code",
   "execution_count": null,
   "id": "ab9be82e-e114-413b-a6e8-03caa677ab48",
   "metadata": {},
   "outputs": [],
   "source": []
  }
 ],
 "metadata": {
  "kernelspec": {
   "display_name": "Python 3 (ipykernel)",
   "language": "python",
   "name": "python3"
  },
  "language_info": {
   "codemirror_mode": {
    "name": "ipython",
    "version": 3
   },
   "file_extension": ".py",
   "mimetype": "text/x-python",
   "name": "python",
   "nbconvert_exporter": "python",
   "pygments_lexer": "ipython3",
   "version": "3.12.9"
  }
 },
 "nbformat": 4,
 "nbformat_minor": 5
}
