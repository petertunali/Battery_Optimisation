{
 "cells": [
  {
   "cell_type": "code",
   "execution_count": null,
   "id": "2da3c42b-1bc4-40af-810e-2e30574d10a6",
   "metadata": {},
   "outputs": [],
   "source": [
    "# Energy Requirement vs. PV Production\n",
    "\n",
    "#**Location:** –37.304286°, 145.695693°  \n",
    "#**Orientation:** tilt = 30°, azimuth = 20°  \n",
    "\n"
   ]
  }
 ],
 "metadata": {
  "kernelspec": {
   "display_name": "Python 3 (ipykernel)",
   "language": "python",
   "name": "python3"
  },
  "language_info": {
   "codemirror_mode": {
    "name": "ipython",
    "version": 3
   },
   "file_extension": ".py",
   "mimetype": "text/x-python",
   "name": "python",
   "nbconvert_exporter": "python",
   "pygments_lexer": "ipython3",
   "version": "3.12.9"
  }
 },
 "nbformat": 4,
 "nbformat_minor": 5
}
