{
 "cells": [
  {
   "cell_type": "code",
   "execution_count": 3,
   "id": "4ce9307d-60ed-4a8d-bd86-671835dbb9f0",
   "metadata": {},
   "outputs": [
    {
     "ename": "ModuleNotFoundError",
     "evalue": "No module named 'pvlib'",
     "output_type": "error",
     "traceback": [
      "\u001b[31m---------------------------------------------------------------------------\u001b[39m",
      "\u001b[31mModuleNotFoundError\u001b[39m                       Traceback (most recent call last)",
      "\u001b[36mCell\u001b[39m\u001b[36m \u001b[39m\u001b[32mIn[3]\u001b[39m\u001b[32m, line 7\u001b[39m\n\u001b[32m      4\u001b[39m \u001b[38;5;28;01mimport\u001b[39;00m\u001b[38;5;250m \u001b[39m\u001b[34;01mpandas\u001b[39;00m\u001b[38;5;250m \u001b[39m\u001b[38;5;28;01mas\u001b[39;00m\u001b[38;5;250m \u001b[39m\u001b[34;01mpd\u001b[39;00m\n\u001b[32m      5\u001b[39m \u001b[38;5;28;01mfrom\u001b[39;00m\u001b[38;5;250m \u001b[39m\u001b[34;01mpathlib\u001b[39;00m\u001b[38;5;250m \u001b[39m\u001b[38;5;28;01mimport\u001b[39;00m Path\n\u001b[32m----> \u001b[39m\u001b[32m7\u001b[39m \u001b[38;5;28;01mimport\u001b[39;00m\u001b[38;5;250m \u001b[39m\u001b[34;01mpvlib\u001b[39;00m\n\u001b[32m      8\u001b[39m \u001b[38;5;28;01mfrom\u001b[39;00m\u001b[38;5;250m \u001b[39m\u001b[34;01mpvlib\u001b[39;00m\u001b[34;01m.\u001b[39;00m\u001b[34;01miotools\u001b[39;00m\u001b[38;5;250m \u001b[39m\u001b[38;5;28;01mimport\u001b[39;00m read_epw\n\u001b[32m      9\u001b[39m \u001b[38;5;28;01mfrom\u001b[39;00m\u001b[38;5;250m \u001b[39m\u001b[34;01mpvlib\u001b[39;00m\u001b[34;01m.\u001b[39;00m\u001b[34;01mirradiance\u001b[39;00m\u001b[38;5;250m \u001b[39m\u001b[38;5;28;01mimport\u001b[39;00m get_total_irradiance\n",
      "\u001b[31mModuleNotFoundError\u001b[39m: No module named 'pvlib'"
     ]
    }
   ],
   "source": [
    "# Cell 1: Imports & Parameters\n",
    "\n",
    "import numpy as np\n",
    "import pandas as pd\n",
    "from pathlib import Path\n",
    "\n",
    "import pvlib\n",
    "from pvlib.iotools import read_epw\n",
    "from pvlib.irradiance import get_total_irradiance\n",
    "from pvlib.location import Location\n",
    "\n",
    "from tqdm.notebook import tqdm\n",
    "import matplotlib.pyplot as plt\n",
    "\n",
    "# 1) Paths & site info\n",
    "project_root = Path.cwd().parent\n",
    "epw_file     = project_root/\"data\"/\"Bonfire_2025.epw\"\n",
    "assert epw_file.exists(), f\"EPW not found: {epw_file}\"\n",
    "\n",
    "# 2) Grid settings\n",
    "tilts = np.arange(0, 91, 5)      # 0°, 5°, …, 90°\n",
    "azis  = np.arange(0, 361, 10)    # 0°, 10°, …, 360°\n",
    "\n",
    "print(\"Tilt steps:\", tilts)\n",
    "print(\"Azimuth steps:\", azis)\n",
    "print(\"Using EPW:\", epw_file)\n"
   ]
  },
  {
   "cell_type": "code",
   "execution_count": null,
   "id": "eb13f268-d3e2-429f-8eb4-b078b6a36fbe",
   "metadata": {},
   "outputs": [],
   "source": [
    "# Cell 2: Load EPW & Precompute Solar Position\n",
    "\n",
    "# Read EPW: returns metadata + DataFrame with ghi/dni/dhi\n",
    "meta, weather = read_epw(epw_file)\n",
    "\n",
    "# Override or confirm coordinates\n",
    "lat, lon = -37.304286, 145.695693\n",
    "tz        = meta[\"TZ\"]  # timezone string from EPW header\n",
    "\n",
    "site     = Location(lat, lon, tz=tz)\n",
    "times    = weather.index\n",
    "\n",
    "# Solar position & irradiance components\n",
    "solpos   = site.get_solarposition(times)\n",
    "dni      = weather[\"dni\"]\n",
    "ghi      = weather[\"ghi\"]\n",
    "dhi      = weather[\"dhi\"]\n",
    "\n",
    "# time step in hours (EPW is hourly)\n",
    "delta_h  = (times[1] - times[0]).total_seconds() / 3600.0\n",
    "\n",
    "print(f\"Data covers {len(times)} hours; Δt = {delta_h} h\")\n"
   ]
  },
  {
   "cell_type": "code",
   "execution_count": null,
   "id": "472df12d-205b-4b3b-801d-93cdb421e79b",
   "metadata": {},
   "outputs": [],
   "source": [
    "# Cell 3: Grid-search Tilt & Azimuth\n",
    "\n",
    "records = []\n",
    "for tilt in tqdm(tilts, desc=\"Tilts\"):\n",
    "    for azi in azis:\n",
    "        poa = get_total_irradiance(\n",
    "            surface_tilt    = tilt,\n",
    "            surface_azimuth = azi,\n",
    "            solar_zenith    = solpos[\"zenith\"],\n",
    "            solar_azimuth   = solpos[\"azimuth\"],\n",
    "            dni             = dni,\n",
    "            ghi             = ghi,\n",
    "            dhi             = dhi\n",
    "        )[\"poa_global\"]\n",
    "        # integrate to kWh/m²: W/m² × h → Wh/m² → kWh/m²\n",
    "        annual_kwh = (poa * delta_h / 1000.0).sum()\n",
    "        records.append((tilt, azi, annual_kwh))\n",
    "\n",
    "res_df = pd.DataFrame(records, columns=[\"tilt\",\"azimuth\",\"yield_kwh\"])\n"
   ]
  },
  {
   "cell_type": "code",
   "execution_count": null,
   "id": "08858409-5adf-4cb9-9a1f-b4268eabe0e6",
   "metadata": {},
   "outputs": [],
   "source": [
    "# Cell 4: Identify & Display Best Orientation\n",
    "\n",
    "best = res_df.loc[res_df[\"yield_kwh\"].idxmax()]\n",
    "print(\"▶ Best tilt     = {:.1f}°\".format(best.tilt))\n",
    "print(\"▶ Best azimuth  = {:.1f}°\".format(best.azimuth))\n",
    "print(\"▶ Annual yield  = {:.1f} kWh/kWp\".format(best.yield_kwh))\n"
   ]
  },
  {
   "cell_type": "code",
   "execution_count": null,
   "id": "756ecb8c-9029-4d4e-8c48-02c9a80838cb",
   "metadata": {},
   "outputs": [],
   "source": [
    "# Cell 5: Visualise as Heatmap\n",
    "\n",
    "heat = res_df.pivot(index=\"tilt\", columns=\"azimuth\", values=\"yield_kwh\")\n",
    "\n",
    "plt.figure(figsize=(8,6))\n",
    "plt.imshow(heat, origin=\"lower\", aspect=\"auto\",\n",
    "           extent=[azis.min(),azis.max(),tilts.min(),tilts.max()])\n",
    "plt.colorbar(label=\"Annual kWh/kWp\")\n",
    "plt.xlabel(\"Azimuth (°)\")\n",
    "plt.ylabel(\"Tilt (°)\")\n",
    "plt.title(\"Annual POA Yield Heatmap\")\n",
    "plt.show()\n"
   ]
  }
 ],
 "metadata": {
  "kernelspec": {
   "display_name": "Python 3 (ipykernel)",
   "language": "python",
   "name": "python3"
  },
  "language_info": {
   "codemirror_mode": {
    "name": "ipython",
    "version": 3
   },
   "file_extension": ".py",
   "mimetype": "text/x-python",
   "name": "python",
   "nbconvert_exporter": "python",
   "pygments_lexer": "ipython3",
   "version": "3.12.9"
  }
 },
 "nbformat": 4,
 "nbformat_minor": 5
}
