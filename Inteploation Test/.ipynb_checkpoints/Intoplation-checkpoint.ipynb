{
 "cells": [
  {
   "cell_type": "code",
   "execution_count": 2,
   "id": "3b490f9f-884a-43af-a433-81102f7b5a6a",
   "metadata": {},
   "outputs": [
    {
     "name": "stdout",
     "output_type": "stream",
     "text": [
      "✅ Half-hourly interpolated CSV saved as 'done.csv' with timestamps starting at 00:30.\n"
     ]
    }
   ],
   "source": [
    "import pandas as pd\n",
    "import numpy as np\n",
    "\n",
    "# Load the data starting from B2\n",
    "df = pd.read_csv('results.csv', header=None)\n",
    "\n",
    "# Drop the first column (A) if it's empty or unwanted\n",
    "df = df.drop(columns=[0])\n",
    "\n",
    "# Rename the remaining column to 'value'\n",
    "df.columns = ['value']\n",
    "\n",
    "# Force the 'value' column to numeric (in case it's read as strings)\n",
    "df['value'] = pd.to_numeric(df['value'], errors='coerce')\n",
    "\n",
    "# Create the hourly datetime index starting at 00:00\n",
    "start_time = pd.Timestamp('2025-01-01 00:00')  # Adjust starting date if needed\n",
    "time_index = pd.date_range(start=start_time, periods=len(df), freq='h')\n",
    "\n",
    "df.index = time_index\n",
    "\n",
    "# Create a new half-hourly datetime index, starting at 00:30\n",
    "new_index = pd.date_range(start=start_time + pd.Timedelta(minutes=30), periods=(len(df)-1)*2 + 1, freq='30min')\n",
    "\n",
    "# Reindex and interpolate\n",
    "df_halfhourly = df.reindex(new_index)\n",
    "df_halfhourly = df_halfhourly.interpolate(method='linear')\n",
    "\n",
    "# Reset index to have timestamp as a column\n",
    "df_halfhourly = df_halfhourly.reset_index()\n",
    "df_halfhourly.columns = ['timestamp', 'value']\n",
    "\n",
    "# Save to done.csv\n",
    "df_halfhourly.to_csv('done.csv', index=False)\n",
    "\n",
    "print(\"✅ Half-hourly interpolated CSV saved as 'done.csv' with timestamps starting at 00:30.\")\n"
   ]
  },
  {
   "cell_type": "code",
   "execution_count": null,
   "id": "ab9be82e-e114-413b-a6e8-03caa677ab48",
   "metadata": {},
   "outputs": [],
   "source": []
  }
 ],
 "metadata": {
  "kernelspec": {
   "display_name": "Python 3 (ipykernel)",
   "language": "python",
   "name": "python3"
  },
  "language_info": {
   "codemirror_mode": {
    "name": "ipython",
    "version": 3
   },
   "file_extension": ".py",
   "mimetype": "text/x-python",
   "name": "python",
   "nbconvert_exporter": "python",
   "pygments_lexer": "ipython3",
   "version": "3.12.9"
  }
 },
 "nbformat": 4,
 "nbformat_minor": 5
}
