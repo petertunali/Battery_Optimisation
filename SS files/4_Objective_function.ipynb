{
 "cells": [
  {
   "cell_type": "code",
   "execution_count": null,
   "id": "bd248b38-29b5-40fb-a582-c14bbede6ed8",
   "metadata": {},
   "outputs": [],
   "source": [
    "import pandas as pd\n",
    "from simulate_battery import simulate_battery_dispatch\n",
    "from financial_model import compute_financials\n",
    "\n",
    "\n",
    "def evaluate_solution(\n",
    "    params: dict,\n",
    "    pv_profile: pd.Series,\n",
    "    demand_profile: pd.Series\n",
    ") -> list:\n",
    "    \"\"\"\n",
    "    Evaluate a candidate for NSGA-II:\n",
    "\n",
    "    Parameters\n",
    "    ----------\n",
    "    params : dict\n",
    "        Decision variables:\n",
    "          - 'pv_kw'       : float, PV capacity (kW) used to compute CAPEX\n",
    "          - 'battery_kwh' : float, battery capacity (kWh)\n",
    "    pv_profile : pd.Series\n",
    "        Half-hourly PV generation (kWh) for 30-year horizon.\n",
    "    demand_profile : pd.Series\n",
    "        Half-hourly demand (kWh) for 30-year horizon.\n",
    "\n",
    "    Returns\n",
    "    -------\n",
    "    list\n",
    "        [ -IRR, NPC ] (NPC = net present cost) for minimisation by NSGA-II.\n",
    "    \"\"\"\n",
    "    # Extract generation series if passed as DataFrame\n",
    "    if hasattr(pv_profile, 'columns'):\n",
    "        gen_series = pv_profile['simulated_kwh']\n",
    "    else:\n",
    "        gen_series = pv_profile\n",
    "\n",
    "    # 1) Dispatch battery with PV & demand\n",
    "    dispatch_df, totals = simulate_battery_dispatch(\n",
    "        pv_gen=gen_series,\n",
    "        demand=demand_profile,\n",
    "        battery_kwh=params['battery_kwh'],\n",
    "        battery_kw=params.get('battery_kw', None)\n",
    "    )\n",
    "\n",
    "    # 2) Compute financials (including IRR + NPC)\n",
    "    fin = compute_financials(\n",
    "        totals,\n",
    "        battery_kwh=params['battery_kwh'],\n",
    "        pv_kw=params['pv_kw']\n",
    "    )\n",
    "\n",
    "    # 3) Extract objectives: maximize IRR, minimize NPC\n",
    "    irr = fin['irr'] or 0.0\n",
    "    npc = fin['net_cost']\n",
    "    return [-irr, npc]\n"
   ]
  }
 ],
 "metadata": {
  "kernelspec": {
   "display_name": "Python 3 (ipykernel)",
   "language": "python",
   "name": "python3"
  },
  "language_info": {
   "codemirror_mode": {
    "name": "ipython",
    "version": 3
   },
   "file_extension": ".py",
   "mimetype": "text/x-python",
   "name": "python",
   "nbconvert_exporter": "python",
   "pygments_lexer": "ipython3",
   "version": "3.12.9"
  }
 },
 "nbformat": 4,
 "nbformat_minor": 5
}
