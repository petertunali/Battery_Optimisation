{
 "cells": [
  {
   "cell_type": "code",
   "execution_count": 1,
   "id": "e2b819c9-bdf7-423e-b9d2-b804e62afa12",
   "metadata": {},
   "outputs": [
    {
     "name": "stdout",
     "output_type": "stream",
     "text": [
      "✅ All modules imported successfully!\n"
     ]
    }
   ],
   "source": [
    "# ─── Cell 1: Add scripts folder to path & import modules ────────────────────────\n",
    "import sys\n",
    "from pathlib import Path\n",
    "\n",
    "# 1) Locate project root (one level up from this notebooks directory)\n",
    "try:\n",
    "    project_root = Path(__file__).resolve().parent.parent\n",
    "except NameError:\n",
    "    project_root = Path.cwd().parent\n",
    "\n",
    "# 2) Point at your scripts folder\n",
    "scripts_dir = project_root / \"scripts_optimisation\"\n",
    "assert scripts_dir.exists(), f\"Can't find scripts_optimisation at {scripts_dir}\"\n",
    "sys.path.insert(0, str(scripts_dir))\n",
    "\n",
    "# 3) Import helper modules\n",
    "from pv_simulate    import simulate_multi_year_pv\n",
    "from battery        import simulate_battery_dispatch\n",
    "from financial      import compute_financials\n",
    "from objective      import evaluate_solution\n",
    "\n",
    "# 4) Import optimizer & data libs\n",
    "import numpy as np\n",
    "import pandas as pd\n",
    "from pymoo.core.problem         import Problem\n",
    "from pymoo.algorithms.moo.nsga2 import NSGA2\n",
    "from pymoo.termination          import get_termination\n",
    "from pymoo.optimize             import minimize\n",
    "\n",
    "print(\"✅ All modules imported successfully!\")\n"
   ]
  },
  {
   "cell_type": "code",
   "execution_count": 2,
   "id": "d0766ccb-9e57-41d6-85be-83e40a8da545",
   "metadata": {},
   "outputs": [
    {
     "name": "stdout",
     "output_type": "stream",
     "text": [
      "Building 30-year PV profile…\n",
      "Building 30-year demand profile…\n",
      "Running NSGA-II… this may take a few minutes\n",
      "==========================================================\n",
      "n_gen  |  n_eval  | n_nds  |      eps      |   indicator  \n",
      "==========================================================\n",
      "     1 |       40 |      1 |             - |             -\n"
     ]
    },
    {
     "ename": "AssertionError",
     "evalue": "Invalid progress was set by the TerminationCriterion.",
     "output_type": "error",
     "traceback": [
      "\u001b[31m---------------------------------------------------------------------------\u001b[39m",
      "\u001b[31mAssertionError\u001b[39m                            Traceback (most recent call last)",
      "\u001b[36mCell\u001b[39m\u001b[36m \u001b[39m\u001b[32mIn[2]\u001b[39m\u001b[32m, line 83\u001b[39m\n\u001b[32m     80\u001b[39m termination = get_termination(\u001b[33m\"\u001b[39m\u001b[33mn_gen\u001b[39m\u001b[33m\"\u001b[39m, \u001b[32m50\u001b[39m)\n\u001b[32m     82\u001b[39m \u001b[38;5;28mprint\u001b[39m(\u001b[33m\"\u001b[39m\u001b[33mRunning NSGA-II… this may take a few minutes\u001b[39m\u001b[33m\"\u001b[39m)\n\u001b[32m---> \u001b[39m\u001b[32m83\u001b[39m res = minimize(\n\u001b[32m     84\u001b[39m     problem,\n\u001b[32m     85\u001b[39m     algorithm,\n\u001b[32m     86\u001b[39m     termination,\n\u001b[32m     87\u001b[39m     seed=\u001b[32m42\u001b[39m,\n\u001b[32m     88\u001b[39m     verbose=\u001b[38;5;28;01mTrue\u001b[39;00m\n\u001b[32m     89\u001b[39m )\n\u001b[32m     91\u001b[39m \u001b[38;5;66;03m# 8) Extract & save Pareto front\u001b[39;00m\n\u001b[32m     92\u001b[39m battery_sizes = res.X.flatten()\n",
      "\u001b[36mFile \u001b[39m\u001b[32m/opt/anaconda3/envs/pysam_project/lib/python3.12/site-packages/pymoo/optimize.py:67\u001b[39m, in \u001b[36mminimize\u001b[39m\u001b[34m(problem, algorithm, termination, copy_algorithm, copy_termination, **kwargs)\u001b[39m\n\u001b[32m     64\u001b[39m     algorithm.setup(problem, **kwargs)\n\u001b[32m     66\u001b[39m \u001b[38;5;66;03m# actually execute the algorithm\u001b[39;00m\n\u001b[32m---> \u001b[39m\u001b[32m67\u001b[39m res = algorithm.run()\n\u001b[32m     69\u001b[39m \u001b[38;5;66;03m# store the deep copied algorithm in the result object\u001b[39;00m\n\u001b[32m     70\u001b[39m res.algorithm = algorithm\n",
      "\u001b[36mFile \u001b[39m\u001b[32m/opt/anaconda3/envs/pysam_project/lib/python3.12/site-packages/pymoo/core/algorithm.py:138\u001b[39m, in \u001b[36mAlgorithm.run\u001b[39m\u001b[34m(self)\u001b[39m\n\u001b[32m    136\u001b[39m \u001b[38;5;28;01mdef\u001b[39;00m\u001b[38;5;250m \u001b[39m\u001b[34mrun\u001b[39m(\u001b[38;5;28mself\u001b[39m):\n\u001b[32m    137\u001b[39m     \u001b[38;5;28;01mwhile\u001b[39;00m \u001b[38;5;28mself\u001b[39m.has_next():\n\u001b[32m--> \u001b[39m\u001b[32m138\u001b[39m         \u001b[38;5;28mself\u001b[39m.next()\n\u001b[32m    139\u001b[39m     \u001b[38;5;28;01mreturn\u001b[39;00m \u001b[38;5;28mself\u001b[39m.result()\n",
      "\u001b[36mFile \u001b[39m\u001b[32m/opt/anaconda3/envs/pysam_project/lib/python3.12/site-packages/pymoo/core/algorithm.py:159\u001b[39m, in \u001b[36mAlgorithm.next\u001b[39m\u001b[34m(self)\u001b[39m\n\u001b[32m    157\u001b[39m \u001b[38;5;28;01mif\u001b[39;00m infills \u001b[38;5;129;01mis\u001b[39;00m \u001b[38;5;129;01mnot\u001b[39;00m \u001b[38;5;28;01mNone\u001b[39;00m:\n\u001b[32m    158\u001b[39m     \u001b[38;5;28mself\u001b[39m.evaluator.eval(\u001b[38;5;28mself\u001b[39m.problem, infills, algorithm=\u001b[38;5;28mself\u001b[39m)\n\u001b[32m--> \u001b[39m\u001b[32m159\u001b[39m     \u001b[38;5;28mself\u001b[39m.advance(infills=infills)\n\u001b[32m    161\u001b[39m \u001b[38;5;66;03m# if the algorithm does not follow the infill-advance scheme just call advance\u001b[39;00m\n\u001b[32m    162\u001b[39m \u001b[38;5;28;01melse\u001b[39;00m:\n\u001b[32m    163\u001b[39m     \u001b[38;5;28mself\u001b[39m.advance()\n",
      "\u001b[36mFile \u001b[39m\u001b[32m/opt/anaconda3/envs/pysam_project/lib/python3.12/site-packages/pymoo/core/algorithm.py:229\u001b[39m, in \u001b[36mAlgorithm.advance\u001b[39m\u001b[34m(self, infills, **kwargs)\u001b[39m\n\u001b[32m    227\u001b[39m     \u001b[38;5;66;03m# always advance to the next iteration - except if the algorithm returns False\u001b[39;00m\n\u001b[32m    228\u001b[39m     \u001b[38;5;28;01mif\u001b[39;00m val \u001b[38;5;129;01mis\u001b[39;00m \u001b[38;5;28;01mNone\u001b[39;00m \u001b[38;5;129;01mor\u001b[39;00m val:\n\u001b[32m--> \u001b[39m\u001b[32m229\u001b[39m         \u001b[38;5;28mself\u001b[39m._post_advance()\n\u001b[32m    231\u001b[39m \u001b[38;5;66;03m# if the algorithm has terminated, then do the finalization steps and return the result\u001b[39;00m\n\u001b[32m    232\u001b[39m \u001b[38;5;28;01mif\u001b[39;00m \u001b[38;5;28mself\u001b[39m.termination.has_terminated():\n",
      "\u001b[36mFile \u001b[39m\u001b[32m/opt/anaconda3/envs/pysam_project/lib/python3.12/site-packages/pymoo/core/algorithm.py:310\u001b[39m, in \u001b[36mAlgorithm._post_advance\u001b[39m\u001b[34m(self)\u001b[39m\n\u001b[32m    307\u001b[39m \u001b[38;5;28mself\u001b[39m.termination.update(\u001b[38;5;28mself\u001b[39m)\n\u001b[32m    309\u001b[39m \u001b[38;5;66;03m# display the output if defined by the algorithm\u001b[39;00m\n\u001b[32m--> \u001b[39m\u001b[32m310\u001b[39m \u001b[38;5;28mself\u001b[39m.display(\u001b[38;5;28mself\u001b[39m)\n\u001b[32m    312\u001b[39m \u001b[38;5;66;03m# if a callback function is provided it is called after each iteration\u001b[39;00m\n\u001b[32m    313\u001b[39m \u001b[38;5;28mself\u001b[39m.callback(\u001b[38;5;28mself\u001b[39m)\n",
      "\u001b[36mFile \u001b[39m\u001b[32m/opt/anaconda3/envs/pysam_project/lib/python3.12/site-packages/pymoo/core/callback.py:27\u001b[39m, in \u001b[36mCallback.__call__\u001b[39m\u001b[34m(self, algorithm)\u001b[39m\n\u001b[32m     24\u001b[39m     \u001b[38;5;28mself\u001b[39m.is_initialized = \u001b[38;5;28;01mTrue\u001b[39;00m\n\u001b[32m     26\u001b[39m \u001b[38;5;28mself\u001b[39m.notify(algorithm)\n\u001b[32m---> \u001b[39m\u001b[32m27\u001b[39m \u001b[38;5;28mself\u001b[39m.update(algorithm)\n",
      "\u001b[36mFile \u001b[39m\u001b[32m/opt/anaconda3/envs/pysam_project/lib/python3.12/site-packages/pymoo/util/display/display.py:19\u001b[39m, in \u001b[36mDisplay.update\u001b[39m\u001b[34m(self, algorithm, **kwargs)\u001b[39m\n\u001b[32m     17\u001b[39m text = \u001b[33m\"\u001b[39m\u001b[33m\"\u001b[39m\n\u001b[32m     18\u001b[39m header = \u001b[38;5;129;01mnot\u001b[39;00m output.is_initialized\n\u001b[32m---> \u001b[39m\u001b[32m19\u001b[39m output(algorithm)\n\u001b[32m     21\u001b[39m \u001b[38;5;28;01mif\u001b[39;00m header:\n\u001b[32m     22\u001b[39m     text += output.header(border=\u001b[38;5;28;01mTrue\u001b[39;00m) + \u001b[33m'\u001b[39m\u001b[38;5;130;01m\\n\u001b[39;00m\u001b[33m'\u001b[39m\n",
      "\u001b[36mFile \u001b[39m\u001b[32m/opt/anaconda3/envs/pysam_project/lib/python3.12/site-packages/pymoo/core/callback.py:27\u001b[39m, in \u001b[36mCallback.__call__\u001b[39m\u001b[34m(self, algorithm)\u001b[39m\n\u001b[32m     24\u001b[39m     \u001b[38;5;28mself\u001b[39m.is_initialized = \u001b[38;5;28;01mTrue\u001b[39;00m\n\u001b[32m     26\u001b[39m \u001b[38;5;28mself\u001b[39m.notify(algorithm)\n\u001b[32m---> \u001b[39m\u001b[32m27\u001b[39m \u001b[38;5;28mself\u001b[39m.update(algorithm)\n",
      "\u001b[36mFile \u001b[39m\u001b[32m/opt/anaconda3/envs/pysam_project/lib/python3.12/site-packages/pymoo/util/display/multi.py:79\u001b[39m, in \u001b[36mMultiObjectiveOutput.update\u001b[39m\u001b[34m(self, algorithm)\u001b[39m\n\u001b[32m     76\u001b[39m \u001b[38;5;28;01mif\u001b[39;00m \u001b[38;5;28mself\u001b[39m.indicator_no_pf \u001b[38;5;129;01mis\u001b[39;00m \u001b[38;5;129;01mnot\u001b[39;00m \u001b[38;5;28;01mNone\u001b[39;00m:\n\u001b[32m     78\u001b[39m     ind = \u001b[38;5;28mself\u001b[39m.indicator_no_pf\n\u001b[32m---> \u001b[39m\u001b[32m79\u001b[39m     ind.update(algorithm)\n\u001b[32m     81\u001b[39m     valid = ind.delta_ideal \u001b[38;5;129;01mis\u001b[39;00m \u001b[38;5;129;01mnot\u001b[39;00m \u001b[38;5;28;01mNone\u001b[39;00m\n\u001b[32m     83\u001b[39m     \u001b[38;5;28;01mif\u001b[39;00m valid:\n",
      "\u001b[36mFile \u001b[39m\u001b[32m/opt/anaconda3/envs/pysam_project/lib/python3.12/site-packages/pymoo/core/termination.py:29\u001b[39m, in \u001b[36mTermination.update\u001b[39m\u001b[34m(self, algorithm)\u001b[39m\n\u001b[32m     27\u001b[39m \u001b[38;5;28;01melse\u001b[39;00m:\n\u001b[32m     28\u001b[39m     progress = \u001b[38;5;28mself\u001b[39m._update(algorithm)\n\u001b[32m---> \u001b[39m\u001b[32m29\u001b[39m     \u001b[38;5;28;01massert\u001b[39;00m progress >= \u001b[32m0.0\u001b[39m, \u001b[33m\"\u001b[39m\u001b[33mInvalid progress was set by the TerminationCriterion.\u001b[39m\u001b[33m\"\u001b[39m\n\u001b[32m     31\u001b[39m \u001b[38;5;28mself\u001b[39m.perc = progress\n\u001b[32m     32\u001b[39m \u001b[38;5;28;01mreturn\u001b[39;00m \u001b[38;5;28mself\u001b[39m.perc\n",
      "\u001b[31mAssertionError\u001b[39m: Invalid progress was set by the TerminationCriterion."
     ]
    }
   ],
   "source": [
    "# ─── RUN OPTIMISATION ─────────────────────────────────────────────────────────────\n",
    "if __name__ == \"__main__\":\n",
    "    # … (all your setup: out_dir, pv_profile, demand_profile, problem definition, etc.) …\n",
    "\n",
    "    # 1) Instantiate algorithm and termination\n",
    "    pop_size   = 40\n",
    "    eval_limit = pop_size * 50   # 50 generations × 40 individuals\n",
    "    algorithm  = NSGA2(pop_size=pop_size)\n",
    "    termination = get_termination(\"n_eval\", eval_limit)\n",
    "\n",
    "    print(\"Running NSGA-II… this may take a few minutes\")\n",
    "\n",
    "    # 2) Time the run and disable pymoo’s per‐gen display\n",
    "    import time\n",
    "    t0 = time.time()\n",
    "    res = minimize(\n",
    "        problem,\n",
    "        algorithm,\n",
    "        termination,\n",
    "        seed=42,\n",
    "        verbose=False    # ← turn off pymoo’s internal progress table\n",
    "    )\n",
    "    t1 = time.time()\n",
    "    print(f\"✅ Optimization finished in {t1 - t0:.1f} seconds\")\n",
    "\n",
    "    # 3) Extract & save Pareto front as before\n",
    "    battery_sizes = res.X.flatten()\n",
    "    pareto_F      = res.F\n",
    "    irr_vals      = -pareto_F[:, 0]\n",
    "    npc_vals      = pareto_F[:, 1]\n",
    "\n",
    "    df = pd.DataFrame({\n",
    "        'battery_kwh': battery_sizes,\n",
    "        'IRR':          irr_vals,\n",
    "        'NPC':          npc_vals\n",
    "    })\n",
    "    out_csv = out_dir / 'pareto_solutions.csv'\n",
    "    df.to_csv(out_csv, index=False)\n",
    "    print(f\"✅ Pareto front saved to {out_csv}\")\n"
   ]
  },
  {
   "cell_type": "code",
   "execution_count": null,
   "id": "4e85eebf-a954-4f12-b48e-7e0b7324ca31",
   "metadata": {},
   "outputs": [],
   "source": []
  }
 ],
 "metadata": {
  "kernelspec": {
   "display_name": "Python 3 (ipykernel)",
   "language": "python",
   "name": "python3"
  },
  "language_info": {
   "codemirror_mode": {
    "name": "ipython",
    "version": 3
   },
   "file_extension": ".py",
   "mimetype": "text/x-python",
   "name": "python",
   "nbconvert_exporter": "python",
   "pygments_lexer": "ipython3",
   "version": "3.12.9"
  }
 },
 "nbformat": 4,
 "nbformat_minor": 5
}
