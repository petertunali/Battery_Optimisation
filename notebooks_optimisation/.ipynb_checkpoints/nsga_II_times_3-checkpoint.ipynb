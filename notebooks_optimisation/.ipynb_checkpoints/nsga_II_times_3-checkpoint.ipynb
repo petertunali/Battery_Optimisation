{
 "cells": [
  {
   "cell_type": "code",
   "execution_count": 1,
   "id": "e2b819c9-bdf7-423e-b9d2-b804e62afa12",
   "metadata": {},
   "outputs": [
    {
     "name": "stdout",
     "output_type": "stream",
     "text": [
      "✅ All modules imported successfully!\n"
     ]
    }
   ],
   "source": [
    "# ─── Cell 1: Add scripts folder to path & import modules ────────────────────────\n",
    "import sys\n",
    "from pathlib import Path\n",
    "\n",
    "# 1) Locate project root (one level up from this notebooks directory)\n",
    "try:\n",
    "    project_root = Path(__file__).resolve().parent.parent\n",
    "except NameError:\n",
    "    project_root = Path.cwd().parent\n",
    "\n",
    "# 2) Point at your scripts folder\n",
    "scripts_dir = project_root / \"scripts_optimisation\"\n",
    "assert scripts_dir.exists(), f\"Can't find scripts_optimisation at {scripts_dir}\"\n",
    "sys.path.insert(0, str(scripts_dir))\n",
    "\n",
    "# 3) Import helper modules\n",
    "from pv_simulate    import simulate_multi_year_pv\n",
    "from battery        import simulate_battery_dispatch\n",
    "from financial      import compute_financials\n",
    "from objective      import evaluate_solution\n",
    "\n",
    "# 4) Import optimizer & data libs\n",
    "import numpy as np\n",
    "import pandas as pd\n",
    "from pymoo.core.problem         import Problem\n",
    "from pymoo.algorithms.moo.nsga2 import NSGA2\n",
    "from pymoo.termination          import get_termination\n",
    "from pymoo.optimize             import minimize\n",
    "\n",
    "print(\"✅ All modules imported successfully!\")\n"
   ]
  },
  {
   "cell_type": "code",
   "execution_count": 3,
   "id": "d0766ccb-9e57-41d6-85be-83e40a8da545",
   "metadata": {},
   "outputs": [
    {
     "name": "stdout",
     "output_type": "stream",
     "text": [
      "Running NSGA-II… this may take a few minutes\n",
      "✅ Optimization finished in 2274.1 seconds\n"
     ]
    },
    {
     "ename": "NameError",
     "evalue": "name 'out_dir' is not defined",
     "output_type": "error",
     "traceback": [
      "\u001b[31m---------------------------------------------------------------------------\u001b[39m",
      "\u001b[31mNameError\u001b[39m                                 Traceback (most recent call last)",
      "\u001b[36mCell\u001b[39m\u001b[36m \u001b[39m\u001b[32mIn[3]\u001b[39m\u001b[32m, line 37\u001b[39m\n\u001b[32m     30\u001b[39m npc_vals      = pareto_F[:, \u001b[32m1\u001b[39m]\n\u001b[32m     32\u001b[39m df = pd.DataFrame({\n\u001b[32m     33\u001b[39m     \u001b[33m'\u001b[39m\u001b[33mbattery_kwh\u001b[39m\u001b[33m'\u001b[39m: battery_sizes,\n\u001b[32m     34\u001b[39m     \u001b[33m'\u001b[39m\u001b[33mIRR\u001b[39m\u001b[33m'\u001b[39m:          irr_vals,\n\u001b[32m     35\u001b[39m     \u001b[33m'\u001b[39m\u001b[33mNPC\u001b[39m\u001b[33m'\u001b[39m:          npc_vals\n\u001b[32m     36\u001b[39m })\n\u001b[32m---> \u001b[39m\u001b[32m37\u001b[39m out_csv = out_dir / \u001b[33m'\u001b[39m\u001b[33mpareto_solutions.csv\u001b[39m\u001b[33m'\u001b[39m\n\u001b[32m     38\u001b[39m df.to_csv(out_csv, index=\u001b[38;5;28;01mFalse\u001b[39;00m)\n\u001b[32m     39\u001b[39m \u001b[38;5;28mprint\u001b[39m(\u001b[33mf\u001b[39m\u001b[33m\"\u001b[39m\u001b[33m✅ Pareto front saved to \u001b[39m\u001b[38;5;132;01m{\u001b[39;00mout_csv\u001b[38;5;132;01m}\u001b[39;00m\u001b[33m\"\u001b[39m)\n",
      "\u001b[31mNameError\u001b[39m: name 'out_dir' is not defined"
     ]
    }
   ],
   "source": [
    "# ─── RUN OPTIMISATION ─────────────────────────────────────────────────────────────\n",
    "if __name__ == \"__main__\":\n",
    "    # … (all your setup: out_dir, pv_profile, demand_profile, problem definition, etc.) …\n",
    "\n",
    "    # 1) Instantiate algorithm and termination\n",
    "    pop_size   = 40\n",
    "    eval_limit = pop_size * 50   # 50 generations × 40 individuals\n",
    "    algorithm  = NSGA2(pop_size=pop_size)\n",
    "    termination = get_termination(\"n_eval\", eval_limit)\n",
    "\n",
    "    print(\"Running NSGA-II… this may take a few minutes\")\n",
    "\n",
    "    # 2) Time the run and disable pymoo’s per‐gen display\n",
    "    import time\n",
    "    t0 = time.time()\n",
    "    res = minimize(\n",
    "        problem,\n",
    "        algorithm,\n",
    "        termination,\n",
    "        seed=42,\n",
    "        verbose=False    # ← turn off pymoo’s internal progress table\n",
    "    )\n",
    "    t1 = time.time()\n",
    "    print(f\"✅ Optimization finished in {t1 - t0:.1f} seconds\")\n",
    "\n",
    "    # 3) Extract & save Pareto front as before\n",
    "    battery_sizes = res.X.flatten()\n",
    "    pareto_F      = res.F\n",
    "    irr_vals      = -pareto_F[:, 0]\n",
    "    npc_vals      = pareto_F[:, 1]\n",
    "\n",
    "    df = pd.DataFrame({\n",
    "        'battery_kwh': battery_sizes,\n",
    "        'IRR':          irr_vals,\n",
    "        'NPC':          npc_vals\n",
    "    })\n",
    "    out_csv = out_dir / 'pareto_solutions.csv'\n",
    "    df.to_csv(out_csv, index=False)\n",
    "    print(f\"✅ Pareto front saved to {out_csv}\")\n"
   ]
  },
  {
   "cell_type": "code",
   "execution_count": null,
   "id": "4e85eebf-a954-4f12-b48e-7e0b7324ca31",
   "metadata": {},
   "outputs": [],
   "source": []
  }
 ],
 "metadata": {
  "kernelspec": {
   "display_name": "Python 3 (ipykernel)",
   "language": "python",
   "name": "python3"
  },
  "language_info": {
   "codemirror_mode": {
    "name": "ipython",
    "version": 3
   },
   "file_extension": ".py",
   "mimetype": "text/x-python",
   "name": "python",
   "nbconvert_exporter": "python",
   "pygments_lexer": "ipython3",
   "version": "3.12.9"
  }
 },
 "nbformat": 4,
 "nbformat_minor": 5
}
